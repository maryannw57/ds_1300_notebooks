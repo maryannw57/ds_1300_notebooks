{
 "cells": [
  {
   "cell_type": "markdown",
   "id": "8418071f",
   "metadata": {},
   "source": [
    "# Linear Regression and Temperature"
   ]
  },
  {
   "cell_type": "markdown",
   "id": "81d9cbb1",
   "metadata": {},
   "source": [
    "In this notebook, we'll look at using linear regression to study changes in temperature."
   ]
  },
  {
   "cell_type": "markdown",
   "id": "9b63d72a",
   "metadata": {},
   "source": [
    "## Setup"
   ]
  },
  {
   "cell_type": "code",
   "execution_count": null,
   "id": "8f7e5bf5",
   "metadata": {},
   "outputs": [],
   "source": [
    "import pandas as pd\n",
    "import numpy as np\n",
    "import matplotlib\n",
    "import matplotlib.pyplot as plt\n",
    "import warnings\n",
    "warnings.simplefilter(action='ignore', category=FutureWarning)\n",
    "\n",
    "%config InlineBackend.figure_format ='retina'"
   ]
  },
  {
   "cell_type": "markdown",
   "id": "463cba52",
   "metadata": {},
   "source": [
    "## Getting our data"
   ]
  },
  {
   "cell_type": "markdown",
   "id": "03302bf9",
   "metadata": {},
   "source": [
    "We'll be getting data from [North America Land Data Assimilation System (NLDAS)](https://wonder.cdc.gov/NASA-NLDAS.html), which provides the daily average temperature from 1979-2011 for the United States."
   ]
  },
  {
   "cell_type": "markdown",
   "id": "bb399cf2",
   "metadata": {},
   "source": [
    "For the next step, you will need to choose some settings in the data request form. These are:\n",
    "\n",
    "- GroupBy: Month Day, Year\n",
    "- Your State\n",
    "- Export Results (check box)\n",
    "- Show Zero Values (check box)"
   ]
  },
  {
   "cell_type": "markdown",
   "id": "8f7787ab",
   "metadata": {},
   "source": [
    ">1) Download the data for your home state (or state of your choosing) and upload it to M2 in your work directory."
   ]
  },
  {
   "cell_type": "markdown",
   "id": "94ef474c",
   "metadata": {},
   "source": [
    "# Loading our data"
   ]
  },
  {
   "cell_type": "code",
   "execution_count": null,
   "id": "022bee24",
   "metadata": {},
   "outputs": [],
   "source": [
    "df = pd.read_csv('North America Land Data Assimilation System (NLDAS) Daily Air Temperatures and Heat Index (1979-2011).txt',delimiter='\\t',skipfooter=14,engine='python')"
   ]
  },
  {
   "cell_type": "code",
   "execution_count": null,
   "id": "8aeb4e92",
   "metadata": {},
   "outputs": [],
   "source": [
    "df"
   ]
  },
  {
   "cell_type": "markdown",
   "id": "a0de750f",
   "metadata": {},
   "source": [
    "### Clean the data"
   ]
  },
  {
   "cell_type": "markdown",
   "id": "e3ca4ebe",
   "metadata": {},
   "source": [
    ">2) Drop any rows that have the value \"Total\" in the Notes column, then drop the Notes column"
   ]
  },
  {
   "cell_type": "code",
   "execution_count": null,
   "id": "0d63e163",
   "metadata": {},
   "outputs": [],
   "source": []
  },
  {
   "cell_type": "markdown",
   "id": "abe0efd7",
   "metadata": {},
   "source": [
    ">3) Make a column called Date that is in the pandas datetime format"
   ]
  },
  {
   "cell_type": "code",
   "execution_count": null,
   "id": "55f0accf",
   "metadata": {},
   "outputs": [],
   "source": []
  },
  {
   "cell_type": "markdown",
   "id": "e0de2b1d",
   "metadata": {},
   "source": [
    ">4) Make columns for 'Year', 'Month', and 'Day' by splitting the column 'Month Day, Year'"
   ]
  },
  {
   "cell_type": "code",
   "execution_count": null,
   "id": "1843a546",
   "metadata": {},
   "outputs": [],
   "source": []
  },
  {
   "cell_type": "code",
   "execution_count": null,
   "id": "0c1c8e0d",
   "metadata": {},
   "outputs": [],
   "source": [
    "df['DateInt'] = df['Date'].astype(int)/10e10 # This will be used later"
   ]
  },
  {
   "cell_type": "markdown",
   "id": "9db66e36",
   "metadata": {},
   "source": [
    "## Generating a scatter plot"
   ]
  },
  {
   "cell_type": "markdown",
   "id": "3d10db86",
   "metadata": {},
   "source": [
    "> 4) Use df.plot.scatter to plot 'Date' vs 'Avg Daily Max Air Temperature (F)'. You might want to add figsize=(50,5) as an argument to make it more clear what is happening."
   ]
  },
  {
   "cell_type": "code",
   "execution_count": null,
   "id": "54a84c77",
   "metadata": {},
   "outputs": [],
   "source": []
  },
  {
   "cell_type": "markdown",
   "id": "c34a49b9",
   "metadata": {},
   "source": [
    ">5) Describe your plot."
   ]
  },
  {
   "cell_type": "markdown",
   "id": "11329bef",
   "metadata": {},
   "source": [
    "### Adding colors for our graph"
   ]
  },
  {
   "cell_type": "code",
   "execution_count": null,
   "id": "acb59b17",
   "metadata": {},
   "outputs": [],
   "source": [
    "# No need to edit this unless you want to try different colors or a pattern other than colors by month\n",
    "\n",
    "cmap = matplotlib.cm.get_cmap(\"nipy_spectral\", len(df['Month'].unique())) # Builds a discrete color mapping using a built in matplotlib color map\n",
    "\n",
    "c = []\n",
    "for i in range(cmap.N): # Converts our discrete map into Hex Values\n",
    "    rgba = cmap(i)\n",
    "    c.append(matplotlib.colors.rgb2hex(rgba))\n",
    "\n",
    "df['color']=[c[int(i-1)] for i in df['Month'].astype(int)] # Adds a column to our dataframe with the color we want for each row"
   ]
  },
  {
   "cell_type": "markdown",
   "id": "bead7946",
   "metadata": {},
   "source": [
    ">6) Make the same plot as 4) but add color by adding the argument c=df\\['color'\\] to our plotting command."
   ]
  },
  {
   "cell_type": "code",
   "execution_count": null,
   "id": "8f71b23e",
   "metadata": {},
   "outputs": [],
   "source": []
  },
  {
   "cell_type": "markdown",
   "id": "3c0e2f8f",
   "metadata": {},
   "source": [
    "## Pick a subset of the data"
   ]
  },
  {
   "cell_type": "markdown",
   "id": "7a7ecb51",
   "metadata": {},
   "source": [
    ">7) Select a 6 month period from the data. # Hint use logic and pd.datetime(YYYY, MM, DD)"
   ]
  },
  {
   "cell_type": "code",
   "execution_count": null,
   "id": "f8e56669",
   "metadata": {},
   "outputs": [],
   "source": []
  },
  {
   "cell_type": "markdown",
   "id": "0aa58e64",
   "metadata": {},
   "source": [
    ">8) Plot the subset using the the same code you used in 6). You can change the figsize if needed."
   ]
  },
  {
   "cell_type": "code",
   "execution_count": null,
   "id": "3e8ec55a",
   "metadata": {},
   "outputs": [],
   "source": []
  },
  {
   "cell_type": "markdown",
   "id": "a3dedbbf",
   "metadata": {},
   "source": [
    "## Linear Regression"
   ]
  },
  {
   "cell_type": "markdown",
   "id": "165abe8d",
   "metadata": {},
   "source": [
    "We are going to use a very [simple linear regression model](https://en.wikipedia.org/wiki/Simple_linear_regression). You may implement a more complex model if you wish.\n",
    "\n",
    "The method described here is called the least squares method and is defined as:\n",
    "\n",
    "$m = \\frac{\\sum_{i=1}^{n}(x_i-\\bar{x})(y_i-\\bar{y}))}{\\sum_{i=1}^{n}(x_i-\\bar{x})^2}$\n",
    "\n",
    "$b = \\bar{y} - m\\bar{x}$\n",
    "\n",
    "Where $\\bar{x}$ and $\\bar{y}$ are the average value of $x$ and $y$ respectively."
   ]
  },
  {
   "cell_type": "markdown",
   "id": "e73a18cc",
   "metadata": {},
   "source": [
    "First we need to define our X and Y values."
   ]
  },
  {
   "cell_type": "code",
   "execution_count": null,
   "id": "51dddac4",
   "metadata": {},
   "outputs": [],
   "source": [
    "X=subset['DateInt'].values\n",
    "Y=subset['Avg Daily Max Air Temperature (F)'].values"
   ]
  },
  {
   "cell_type": "code",
   "execution_count": null,
   "id": "2d5d0180",
   "metadata": {},
   "outputs": [],
   "source": [
    "def lin_reg(x,y):\n",
    "    # Calculate the average x and y\n",
    "    x_avg = np.mean(x)\n",
    "    y_avg = np.mean(y)\n",
    "\n",
    "    num = 0\n",
    "    den = 0\n",
    "    for i in range(len(x)): # This represents our sums\n",
    "        num = num + (x[i] - x_avg)*(y[i] - y_avg) # Our numerator\n",
    "        den = den + (x[i] - x_avg)**2 # Our denominator\n",
    "    # Calculate slope\n",
    "    m = num / den\n",
    "    # Calculate intercept\n",
    "    b = y_avg - m*x_avg\n",
    "\n",
    "    print (m, b)\n",
    "    \n",
    "    # Calculate our predicted y values\n",
    "    y_pred = m*x + b\n",
    "    \n",
    "    return y_pred"
   ]
  },
  {
   "cell_type": "code",
   "execution_count": null,
   "id": "b44c34fc",
   "metadata": {},
   "outputs": [],
   "source": [
    "Y_pred = lin_reg(X,Y)"
   ]
  },
  {
   "cell_type": "code",
   "execution_count": null,
   "id": "1c0a3882",
   "metadata": {},
   "outputs": [],
   "source": [
    "subset.plot.scatter(x='Date', y='Avg Daily Max Air Temperature (F)',c=subset['color'])\n",
    "plt.plot([min(subset['Date'].values), max(subset['Date'].values)], [min(Y_pred), max(Y_pred)], color='red') # best fit line\n",
    "plt.show()"
   ]
  },
  {
   "cell_type": "markdown",
   "id": "9ad0a9ea",
   "metadata": {},
   "source": [
    ">9) What are the slope and intercept of your best fit line?"
   ]
  },
  {
   "cell_type": "code",
   "execution_count": null,
   "id": "a43dead4",
   "metadata": {},
   "outputs": [],
   "source": []
  },
  {
   "cell_type": "markdown",
   "id": "b78b437d",
   "metadata": {},
   "source": [
    ">10) What are the minimum and maximum Y values of your best fit line? Is your slope positive or negative?"
   ]
  },
  {
   "cell_type": "code",
   "execution_count": null,
   "id": "3d09fdc7",
   "metadata": {},
   "outputs": [],
   "source": []
  },
  {
   "cell_type": "markdown",
   "id": "dccea304",
   "metadata": {},
   "source": [
    "## Putting it all together"
   ]
  },
  {
   "cell_type": "markdown",
   "id": "66bda8e4",
   "metadata": {},
   "source": [
    ">11) Generate a best fit line for the full data set and plot the line over top of the data."
   ]
  },
  {
   "cell_type": "code",
   "execution_count": null,
   "id": "6ec5c602",
   "metadata": {},
   "outputs": [],
   "source": []
  },
  {
   "cell_type": "code",
   "execution_count": null,
   "id": "2697c15b",
   "metadata": {},
   "outputs": [],
   "source": []
  },
  {
   "cell_type": "markdown",
   "id": "60fb2cb5",
   "metadata": {},
   "source": [
    ">12) Is the slope positive or negative? What do you think that means?"
   ]
  },
  {
   "cell_type": "code",
   "execution_count": null,
   "id": "148c9c14",
   "metadata": {},
   "outputs": [],
   "source": []
  }
 ],
 "metadata": {
  "jupytext": {
   "formats": "ipynb"
  },
  "kernelspec": {
   "display_name": "Python 3",
   "language": "python",
   "name": "python3"
  }
 },
 "nbformat": 4,
 "nbformat_minor": 5
}
